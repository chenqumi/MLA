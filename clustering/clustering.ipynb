{
 "cells": [
  {
   "cell_type": "code",
   "execution_count": 1,
   "metadata": {},
   "outputs": [],
   "source": [
    "import random\n",
    "import numpy as np\n",
    "import pandas as pd\n",
    "import matplotlib.pyplot as plt\n",
    "import seaborn as sns"
   ]
  },
  {
   "cell_type": "markdown",
   "metadata": {},
   "source": [
    "# 闵可夫斯基距离"
   ]
  },
  {
   "cell_type": "code",
   "execution_count": 2,
   "metadata": {},
   "outputs": [],
   "source": [
    "def mk_dist(v1, v2, p=2, ax=0):\n",
    "    \"\"\"\n",
    "    Minkowski distance\n",
    "    \"\"\"\n",
    "    return (((v1 - v2)**p).sum(axis=ax))**(1/p)"
   ]
  },
  {
   "cell_type": "code",
   "execution_count": 3,
   "metadata": {},
   "outputs": [
    {
     "data": {
      "text/plain": [
       "0.2826764935398767"
      ]
     },
     "execution_count": 3,
     "metadata": {},
     "output_type": "execute_result"
    }
   ],
   "source": [
    "x5 = np.array([0.556, 0.215])\n",
    "x1 = np.array([0.697, 0.460])\n",
    "\n",
    "mk_dist(x1, x5)"
   ]
  },
  {
   "cell_type": "markdown",
   "metadata": {},
   "source": [
    "# 西瓜数据集4.0"
   ]
  },
  {
   "cell_type": "code",
   "execution_count": 4,
   "metadata": {},
   "outputs": [],
   "source": [
    "watermelon4 = pd.DataFrame({\n",
    "    \"density\":[\n",
    "         0.697, 0.774, 0.634, 0.608, 0.556, 0.403, 0.481, 0.437, 0.666, 0.243,\n",
    "         0.245, 0.343, 0.639, 0.657, 0.360, 0.593, 0.719, 0.359, 0.339, 0.282,\n",
    "         0.748, 0.714, 0.483, 0.478, 0.525, 0.751, 0.532, 0.473, 0.725, 0.446\n",
    "    ],\n",
    "    \"sugar_content\": [\n",
    "         0.460, 0.376, 0.264, 0.318, 0.215, 0.237, 0.149, 0.211, 0.091, 0.267,\n",
    "         0.057, 0.099, 0.161, 0.198, 0.370, 0.042, 0.103, 0.188, 0.241, 0.257,\n",
    "         0.232, 0.346, 0.312, 0.437, 0.369, 0.489, 0.472, 0.376, 0.445, 0.459\n",
    "    ]\n",
    "})\n",
    "\n",
    "watermelon4.index = watermelon4.index+1"
   ]
  },
  {
   "cell_type": "code",
   "execution_count": 5,
   "metadata": {
    "scrolled": true
   },
   "outputs": [
    {
     "data": {
      "text/html": [
       "<div>\n",
       "<style scoped>\n",
       "    .dataframe tbody tr th:only-of-type {\n",
       "        vertical-align: middle;\n",
       "    }\n",
       "\n",
       "    .dataframe tbody tr th {\n",
       "        vertical-align: top;\n",
       "    }\n",
       "\n",
       "    .dataframe thead th {\n",
       "        text-align: right;\n",
       "    }\n",
       "</style>\n",
       "<table border=\"1\" class=\"dataframe\">\n",
       "  <thead>\n",
       "    <tr style=\"text-align: right;\">\n",
       "      <th></th>\n",
       "      <th>density</th>\n",
       "      <th>sugar_content</th>\n",
       "    </tr>\n",
       "  </thead>\n",
       "  <tbody>\n",
       "    <tr>\n",
       "      <th>1</th>\n",
       "      <td>0.697</td>\n",
       "      <td>0.460</td>\n",
       "    </tr>\n",
       "    <tr>\n",
       "      <th>2</th>\n",
       "      <td>0.774</td>\n",
       "      <td>0.376</td>\n",
       "    </tr>\n",
       "    <tr>\n",
       "      <th>3</th>\n",
       "      <td>0.634</td>\n",
       "      <td>0.264</td>\n",
       "    </tr>\n",
       "    <tr>\n",
       "      <th>4</th>\n",
       "      <td>0.608</td>\n",
       "      <td>0.318</td>\n",
       "    </tr>\n",
       "    <tr>\n",
       "      <th>5</th>\n",
       "      <td>0.556</td>\n",
       "      <td>0.215</td>\n",
       "    </tr>\n",
       "  </tbody>\n",
       "</table>\n",
       "</div>"
      ],
      "text/plain": [
       "   density  sugar_content\n",
       "1    0.697          0.460\n",
       "2    0.774          0.376\n",
       "3    0.634          0.264\n",
       "4    0.608          0.318\n",
       "5    0.556          0.215"
      ]
     },
     "execution_count": 5,
     "metadata": {},
     "output_type": "execute_result"
    }
   ],
   "source": [
    "watermelon4.head()"
   ]
  },
  {
   "cell_type": "markdown",
   "metadata": {},
   "source": [
    "# k-means聚类  \n",
    "原型聚类"
   ]
  },
  {
   "cell_type": "code",
   "execution_count": 6,
   "metadata": {},
   "outputs": [],
   "source": [
    "def k_means(df, k):\n",
    "    \"\"\"\n",
    "    TODO!!!:\n",
    "    df[\"cluster\"] = label_lst\n",
    "    will change ORIGINAL DataFrame, so need df.copy() as param\n",
    "\n",
    "    k-means clustering\n",
    "    df:  pd.DataFrame\n",
    "    k:   number of clusters\n",
    "\n",
    "    return:\n",
    "        cluster labels\n",
    "    \"\"\"\n",
    "    # initial vector mu in ML book\n",
    "    # df_vector_mu = pd.DataFrame({\n",
    "    #     \"density\": [0.403, 0.343, 0.478],\n",
    "    #     \"sugar_content\": [0.237, 0.099, 0.437]\n",
    "    # })\n",
    "\n",
    "    # initiate vector mu\n",
    "    df_vector_mu = df.sample(k)\n",
    "    df_vector_mu.index = range(k)\n",
    "    # set cluster label for each sample\n",
    "    label_lst = []\n",
    "    # TODO !!! optimized by df.apply()\n",
    "    for idx in range(len(df)):\n",
    "        xi = df.iloc[idx]\n",
    "        df_dist = mk_dist(xi, df_vector_mu, ax=1)\n",
    "        label = df_dist.idxmin()\n",
    "        label_lst.append(label)\n",
    "    df[\"cluster\"] = label_lst\n",
    "    \n",
    "    # update vector mu\n",
    "    all_updated = True\n",
    "    while all_updated:\n",
    "        update_list = []\n",
    "        mu_updated = True\n",
    "        for label in range(k):\n",
    "            new_mu = df[df[\"cluster\"]==label].iloc[:, :-1].mean()\n",
    "            # compare pd.Series by s1.equals(s2)\n",
    "            if df_vector_mu.iloc[label].equals(new_mu):\n",
    "                mu_updated = False\n",
    "            else:\n",
    "                df_vector_mu.iloc[label] = new_mu\n",
    "                mu_updated = True\n",
    "            update_list.append(mu_updated)\n",
    "        \n",
    "        # check whether all the mu have been updated\n",
    "        if (sum(update_list) == 0):\n",
    "            all_updated = False\n",
    "        else:\n",
    "            all_updated = True\n",
    "        \n",
    "        # update cluster label\n",
    "        if all_updated:        \n",
    "            label_lst = []\n",
    "            for idx in range(len(df)):\n",
    "                xi = df.iloc[idx, :-1]\n",
    "                df_dist = mk_dist(xi, df_vector_mu, ax=1)\n",
    "                label = df_dist.idxmin()\n",
    "                label_lst.append(label)\n",
    "            # df[\"cluster\"] = label_lst\n",
    "    cluster_labels = pd.Series(label_lst, index=df.index)\n",
    "            \n",
    "    return cluster_labels"
   ]
  },
  {
   "cell_type": "markdown",
   "metadata": {},
   "source": [
    "k=4聚类结果"
   ]
  },
  {
   "cell_type": "code",
   "execution_count": 7,
   "metadata": {
    "scrolled": false
   },
   "outputs": [],
   "source": [
    "df_kmeans = watermelon4.copy()\n",
    "cluster_labels = k_means(df_kmeans, 4)\n",
    "df_kmeans[\"cluster\"] = cluster_labels"
   ]
  },
  {
   "cell_type": "code",
   "execution_count": 8,
   "metadata": {},
   "outputs": [
    {
     "data": {
      "image/png": "[encoded data removed]",
      "text/plain": [
       "<matplotlib.figure.Figure at 0x2c42174a198>"
      ]
     },
     "metadata": {},
     "output_type": "display_data"
    }
   ],
   "source": [
    "plt.figure(figsize=(10, 8))\n",
    "colors = {\n",
    "    0: \"#DC143C\", 1: \"#4682B4\", 2: \"green\", 3: \"#FF8C00\"\n",
    "}\n",
    "sns.scatterplot(x=\"density\", y=\"sugar_content\", hue=\"cluster\", data=df_kmeans, palette=colors, sizes=20)\n",
    "plt.xlim([0, 0.9])\n",
    "plt.ylim([0, 0.8])\n",
    "plt.show()"
   ]
  },
  {
   "cell_type": "markdown",
   "metadata": {},
   "source": [
    "# 密度聚类"
   ]
  },
  {
   "cell_type": "code",
   "execution_count": 9,
   "metadata": {},
   "outputs": [],
   "source": [
    "class Queue(object):\n",
    "    def __init__(self, lst):\n",
    "        \"\"\"\n",
    "        lst: []\n",
    "        \"\"\"\n",
    "        self.items = lst\n",
    "    \n",
    "    def status(self):\n",
    "        return self.items\n",
    "    \n",
    "    def is_empty(self):\n",
    "        empty = True\n",
    "        if len(self.items) != 0:\n",
    "            empty = False\n",
    "        return empty\n",
    "    \n",
    "    def en_queue(self, item):\n",
    "        return self.items.insert(0, item)\n",
    "        \n",
    "    def de_queue(self):\n",
    "        return self.items.pop()\n",
    "    \n",
    "    def size(self):\n",
    "        return len(self.items)\n",
    "\n",
    "\n",
    "def core_object(df, epsilon=0.11, min_pts=5):\n",
    "    \"\"\"\n",
    "    find core object s.t. epsilon, min_pts\n",
    "    return:\n",
    "        core_object's index in df\n",
    "    \"\"\"\n",
    "    core = set()\n",
    "    for idx in df.index:\n",
    "        df_dist = mk_dist(df.loc[idx], df, ax=1)\n",
    "        pts = (df_dist <= epsilon).sum()\n",
    "        if pts >= min_pts:\n",
    "            core.add(idx)\n",
    "    return core\n",
    "\n",
    "\n",
    "def neighborhood(df, i, epsilon=0.11, min_pts=5):\n",
    "    \"\"\"\n",
    "    find core_object's directly density-reachable, here is called neighbor\n",
    "    return:\n",
    "        neighbor's index\n",
    "    \"\"\"\n",
    "    df_dist = mk_dist(df.loc[i], df, ax=1)\n",
    "    return df[df_dist <= epsilon].index\n",
    "\n",
    "\n",
    "def dbscan(df, epsilon=0.11, min_pts=5):\n",
    "    \"\"\"\n",
    "    DBSCAN algorithm\n",
    "    return:\n",
    "        cluster labels, 0 means NO group\n",
    "    \"\"\"\n",
    "    max_round = 1000\n",
    "    cluster_dict = {}\n",
    "    core = core_object(df)\n",
    "\n",
    "    k = 0\n",
    "    no_visits = set(df.index)\n",
    "\n",
    "    while (len(core) != 0) and max_round > 0:\n",
    "        no_visits_old = no_visits\n",
    "        c_obj = random.choice(tuple(core))\n",
    "        queue = Queue([c_obj,])\n",
    "        # no_visits.discard(c_obj)\n",
    "        while (not queue.is_empty()):\n",
    "            q = queue.de_queue()\n",
    "            neighbor = neighborhood(df, q)\n",
    "            if len(neighbor) >= min_pts:\n",
    "                s = set(neighbor)\n",
    "                delta = s.intersection(no_visits)\n",
    "                for d in delta:\n",
    "                    queue.en_queue(d)\n",
    "                no_visits = no_visits.difference(delta)\n",
    "        k += 1\n",
    "        cluster = no_visits_old.difference(no_visits)\n",
    "        for c in cluster:\n",
    "            cluster_dict[c] = k\n",
    "        core = core.difference(cluster)\n",
    "        max_round -= 1\n",
    "    \n",
    "    cluster_labels = pd.Series(\n",
    "        [cluster_dict.get(idx, 0) for idx in df.index], index=df.index\n",
    "    )\n",
    "        \n",
    "    return cluster_labels\n"
   ]
  },
  {
   "cell_type": "markdown",
   "metadata": {},
   "source": [
    "聚类结果"
   ]
  },
  {
   "cell_type": "code",
   "execution_count": 10,
   "metadata": {
    "scrolled": true
   },
   "outputs": [],
   "source": [
    "cluster_labels = dbscan(watermelon4)\n",
    "df_dbscan = watermelon4.copy()\n",
    "df_dbscan[\"cluster\"] = cluster_labels"
   ]
  },
  {
   "cell_type": "code",
   "execution_count": 11,
   "metadata": {},
   "outputs": [
    {
     "data": {
      "text/plain": [
       "array([3, 2, 1, 0, 4], dtype=int64)"
      ]
     },
     "execution_count": 11,
     "metadata": {},
     "output_type": "execute_result"
    }
   ],
   "source": [
    "cluster_labels.unique()"
   ]
  },
  {
   "cell_type": "code",
   "execution_count": 12,
   "metadata": {},
   "outputs": [
    {
     "data": {
      "image/png": "[encoded data removed]",
      "text/plain": [
       "<matplotlib.figure.Figure at 0x2c421c23208>"
      ]
     },
     "metadata": {},
     "output_type": "display_data"
    }
   ],
   "source": [
    "plt.figure(figsize=(10, 8))\n",
    "colors = {\n",
    "    1: \"#DC143C\", 2: \"#4682B4\", 3: \"#FF8C00\", 4: \"green\", 0: \"black\"\n",
    "}\n",
    "sns.scatterplot(x=\"density\", y=\"sugar_content\", hue=\"cluster\", data=df_dbscan, palette=colors, sizes=20)\n",
    "plt.xlim([0, 0.9])\n",
    "plt.ylim([0, 0.8])\n",
    "plt.show()"
   ]
  },
  {
   "cell_type": "markdown",
   "metadata": {},
   "source": [
    "# 层次聚类"
   ]
  },
  {
   "cell_type": "code",
   "execution_count": 13,
   "metadata": {},
   "outputs": [],
   "source": [
    "def haus_dist(c1, c2, method=\"mean\"):\n",
    "    \"\"\"\n",
    "    TODO!!!: mask diagonal if c1 and c2 are the same matrix\n",
    "    method: one of [\"mean\", \"max\", \"min\"]\n",
    "    \"\"\"\n",
    "    # check type of cluster1 and cluster2\n",
    "    dist_matrix = pd.DataFrame()\n",
    "    c1_type = type(c1)\n",
    "    c2_type = type(c2)\n",
    "    # according type of c1,c2, calculate dist_mat\n",
    "    # if isinstance(c1, pd.DataFrame) and isinstance(c2, pd.DataFrame):\n",
    "    if (c1_type is pd.DataFrame) and (c2_type is pd.DataFrame):\n",
    "        dist_matrix = c1.apply(lambda x: mk_dist(x, c2, ax=1), axis=1)\n",
    "    elif (c1_type is pd.Series) and (c2_type is pd.Series):\n",
    "        dist_matrix = mk_dist(c1, c2, ax=1)\n",
    "    else:\n",
    "        dist_matrix = mk_dist(c1, c2, ax=0)\n",
    "    \n",
    "    # according type of c1,c2 and method of haus_dist, calculate distance\n",
    "    distance = 0.0\n",
    "    dist_mat_type = type(dist_matrix)\n",
    "    if dist_mat_type is float:\n",
    "        return dist_matrix\n",
    "    \n",
    "    if method == \"mean\":\n",
    "        distance = (dist_matrix.mean().mean() \n",
    "                if dist_mat_type is pd.DataFrame else dist_matrix.mean())\n",
    "    elif method == \"max\":\n",
    "        distance = (dist_matrix.max().max() \n",
    "                if dist_mat_type is pd.DataFrame else dist_matrix.max())\n",
    "    elif method == \"min\":\n",
    "        distance = (dist_matrix.min().min() \n",
    "                if dist_mat_type is pd.DataFrame else dist_matrix.min())\n",
    "    else:\n",
    "        print(\"method wrong ! [mean|max|min]\")\n",
    "    \n",
    "    return distance\n",
    "\n",
    "\n",
    "def update_cluster_dict(cluster_labels):\n",
    "    cluster_dict = {}\n",
    "    labels = cluster_labels.values\n",
    "    indexes = cluster_labels.index\n",
    "    for i in range(len(cluster_labels)):\n",
    "        cluster_dict.setdefault(labels[i], set()).add(indexes[i])\n",
    "    return cluster_dict\n",
    "\n",
    "    \n",
    "def agnes(df, k, haus=\"mean\"):\n",
    "    \"\"\"\n",
    "    AGNES algorithm, bottom-up hierachical clustering\n",
    "    k: number of clusters\n",
    "    haus_dist: one of [\"mean\", \"max\", \"min\"]\n",
    "    \n",
    "    cluster_dict = {\n",
    "        label1: {idx1, idx3},\n",
    "        label2: {idx2, idx5},\n",
    "    }\n",
    "    \"\"\"\n",
    "    cluster_dict = {}\n",
    "    # initiate cluster labels\n",
    "    labels = range(1, len(df)+1)\n",
    "    cluster_labels = pd.Series(labels, index=df.index)\n",
    "    # initiate distance matrix\n",
    "    dist_matrix = df.apply(lambda x: mk_dist(x, df, ax=1), axis=1)\n",
    "    dist_matrix.index = labels\n",
    "    dist_matrix.columns = labels\n",
    "    \n",
    "    m = len(df)\n",
    "    while m > k:\n",
    "        # mask diagonal element\n",
    "        dist_mat_mask = dist_matrix.mask(np.eye(len(dist_matrix), dtype=bool))\n",
    "        # find min value's (row, column)name in dist_mat_mask, \n",
    "        # merge these 2 clusters into 1\n",
    "        c1_label, c2_label = dist_mat_mask.stack().idxmin()\n",
    "        # update cluster label\n",
    "        cluster_labels[cluster_labels.values==c2_label] = c1_label\n",
    "        cluster_dict = update_cluster_dict(cluster_labels)\n",
    "        # update dist_matrix\n",
    "        dist_matrix = dist_matrix.drop(index=c2_label, columns=c2_label)\n",
    "        # TODO !!! : try to vectorize\n",
    "        cols = dist_matrix.columns\n",
    "        for row_label in dist_matrix.index:\n",
    "            cols = cols.drop(row_label)\n",
    "            for col_label in cols:\n",
    "                row_cluster = df.loc[cluster_dict[row_label]]\n",
    "                col_cluster = df.loc[cluster_dict[col_label]]\n",
    "                distance = haus_dist(row_cluster, col_cluster, method=haus)\n",
    "                dist_matrix.loc[row_label, col_label] = distance\n",
    "                dist_matrix.loc[col_label, row_label] = distance\n",
    "        m -= 1\n",
    "    # rename label as 1 to k\n",
    "    for label, idx_set in cluster_dict.items():\n",
    "        cluster_labels.loc[idx_set] = k\n",
    "        k -= 1\n",
    "\n",
    "    return cluster_labels"
   ]
  },
  {
   "cell_type": "markdown",
   "metadata": {},
   "source": [
    "k=4聚类结果"
   ]
  },
  {
   "cell_type": "code",
   "execution_count": 14,
   "metadata": {},
   "outputs": [
    {
     "data": {
      "text/plain": [
       "array([4, 3, 2, 1], dtype=int64)"
      ]
     },
     "execution_count": 14,
     "metadata": {},
     "output_type": "execute_result"
    }
   ],
   "source": [
    "cluster_labels_hier = agnes(watermelon4, 4, haus=\"max\")\n",
    "df_agnes = watermelon4.copy()\n",
    "df_agnes[\"cluster\"] = cluster_labels_hier\n",
    "cluster_labels_hier.unique()"
   ]
  },
  {
   "cell_type": "code",
   "execution_count": 15,
   "metadata": {},
   "outputs": [
    {
     "data": {
      "image/png": "[encoded data removed]",
      "text/plain": [
       "<matplotlib.figure.Figure at 0x2c421b24748>"
      ]
     },
     "metadata": {},
     "output_type": "display_data"
    }
   ],
   "source": [
    "plt.figure(figsize=(10, 8))\n",
    " \n",
    "colors = {\n",
    "    4: \"#DC143C\", 3: \"#4682B4\", 2: \"#FF8C00\", 1: \"green\"\n",
    "}\n",
    "sns.scatterplot(x=\"density\", y=\"sugar_content\", hue=\"cluster\", data=df_agnes, palette=colors, sizes=20)\n",
    "plt.xlim([0, 0.9])\n",
    "plt.ylim([0, 0.8])\n",
    "plt.show()"
   ]
  },
  {
   "cell_type": "code",
   "execution_count": null,
   "metadata": {},
   "outputs": [],
   "source": []
  }
 ],
 "metadata": {
  "kernelspec": {
   "display_name": "Python 3",
   "language": "python",
   "name": "python3"
  },
  "language_info": {
   "codemirror_mode": {
    "name": "ipython",
    "version": 3
   },
   "file_extension": ".py",
   "mimetype": "text/x-python",
   "name": "python",
   "nbconvert_exporter": "python",
   "pygments_lexer": "ipython3",
   "version": "3.6.4"
  }
 },
 "nbformat": 4,
 "nbformat_minor": 2
}
