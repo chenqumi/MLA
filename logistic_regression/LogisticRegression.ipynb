{
 "cells": [
  {
   "cell_type": "markdown",
   "metadata": {},
   "source": [
    "# Logistc Regression"
   ]
  },
  {
   "cell_type": "markdown",
   "metadata": {},
   "source": [
    "## 公式推导  \n",
    "sigmoid function  \n",
    "$h(z) = \\frac{1} {1 + e^{-z}}$  \n",
    "\n",
    "线性方程  \n",
    "$ln{\\frac{y} {1 - y}} = \\omega^{T}x + b$  \n",
    "\n",
    "$y$可以视为$p(y = 1 | x)$, $1-y$则可以视为$p(y = 0 | x)$，所以：  \n",
    "$p(y = 1 | x) = \\frac{e^{\\omega^{T}x + b}} {1 + e^{\\omega^{T}x + b}}$  \n",
    "$p(y = 0 | x) = \\frac{1} {1 + e^{\\omega^{T}x + b}}$"
   ]
  },
  {
   "cell_type": "markdown",
   "metadata": {},
   "source": [
    "梯度下降法参数更新方程：  \n",
    "$\\omega_{j}' := \\omega_{j}' - \\alpha \\sum_\\limits{i=1}^{m}[(h(x^{(i)}) - y^{(i)})x_{j}^{(i)}]$  \n",
    "矩阵写法：  \n",
    "$\\omega' := \\omega' - \\alpha \\cdot X^T \\cdot(h(X \\cdot {\\omega^T}) - y)$"
   ]
  },
  {
   "cell_type": "code",
   "execution_count": 1,
   "metadata": {},
   "outputs": [],
   "source": [
    "import numpy as np\n",
    "import pandas as pd\n",
    "import matplotlib.pyplot as plt"
   ]
  },
  {
   "cell_type": "code",
   "execution_count": 2,
   "metadata": {},
   "outputs": [],
   "source": [
    "def design_matrix(X):\n",
    "    \"\"\"\n",
    "    np.array X\n",
    "    add 1.0 in each line\n",
    "\n",
    "    return matrix of shape(n * (1+p))\n",
    "    \"\"\"\n",
    "    n, p = X.shape\n",
    "    mat = np.ones((n, 1))\n",
    "    return np.c_[mat, X]\n",
    "\n",
    "\n",
    "def sigmoid(x):\n",
    "    \"\"\"\n",
    "    np.array x\n",
    "    \"\"\"\n",
    "    return 1 / (1 + np.exp(-x))\n",
    "\n",
    "\n",
    "def gradient_ascent(design_mat, y):\n",
    "    labels = y[:, np.newaxis]\n",
    "    \n",
    "    alpha = 0.001\n",
    "    max_iter = 500\n",
    "    n, p = design_mat.shape\n",
    "    weights = np.ones((p, 1))\n",
    "    # vectorization\n",
    "    for i in range(max_iter):\n",
    "        # w_j := w_j - alpha * sigma((sigmoid(w.T*x_i) - y) * x_j)\n",
    "        # descent: w := w - alpha * X.T * (sigmoid(X*w) - y)\n",
    "        # ascent:  w := w + alpha * X.T * (y - sigmoid(X*w)) \n",
    "        h = sigmoid(design_mat.dot(weights))\n",
    "        error = labels - h\n",
    "        weights = weights + alpha * design_mat.T.dot(error)\n",
    "    \n",
    "    return weights\n",
    "\n",
    "\n",
    "def learning_schedule(t):\n",
    "    t0, t1 = 5, 50\n",
    "    return t0 / (t + t1)\n",
    "\n",
    "\n",
    "def stochastic_gradient_ascent(design_mat, y, max_iter = 500):\n",
    "    n, p = design_mat.shape\n",
    "    weights = np.ones((p))\n",
    "\n",
    "    for i in range(max_iter):\n",
    "        for j in range(n):\n",
    "            alpha = learning_schedule(i * n + j)\n",
    "            idx = np.random.randint(n)\n",
    "            x = design_mat[idx] # design_mat[idx, :]\n",
    "            label = y[idx]\n",
    "            h = sigmoid(x[np.newaxis, :].dot(weights))\n",
    "            weights = weights + alpha * x * (label - h)\n",
    "\n",
    "    return weights"
   ]
  },
  {
   "cell_type": "code",
   "execution_count": 3,
   "metadata": {
    "scrolled": true
   },
   "outputs": [],
   "source": [
    "test_set = \"F:/MLA/logistic_regression/test_set.txt\"\n",
    "df = pd.read_csv(test_set, sep=\"\\t\", header=-1)\n",
    "\n",
    "X = df[df.columns[:2]]\n",
    "y = df[df.columns[-1]]\n",
    "\n",
    "design_mat = design_matrix(X)\n",
    "omega = gradient_ascent(design_mat, y)"
   ]
  },
  {
   "cell_type": "code",
   "execution_count": 4,
   "metadata": {},
   "outputs": [
    {
     "data": {
      "text/plain": [
       "array([[ 4.12414349],\n",
       "       [ 0.48007329],\n",
       "       [-0.6168482 ]])"
      ]
     },
     "execution_count": 4,
     "metadata": {},
     "output_type": "execute_result"
    }
   ],
   "source": [
    "omega"
   ]
  },
  {
   "cell_type": "code",
   "execution_count": 5,
   "metadata": {},
   "outputs": [
    {
     "data": {
      "image/png": "[encoded data removed]",
      "text/plain": [
       "<matplotlib.figure.Figure at 0x247f1958320>"
      ]
     },
     "metadata": {},
     "output_type": "display_data"
    }
   ],
   "source": [
    "plt.scatter(df[0], df[1], c=df[2])\n",
    "plt.show()"
   ]
  },
  {
   "cell_type": "code",
   "execution_count": null,
   "metadata": {},
   "outputs": [],
   "source": []
  }
 ],
 "metadata": {
  "kernelspec": {
   "display_name": "Python 3",
   "language": "python",
   "name": "python3"
  },
  "language_info": {
   "codemirror_mode": {
    "name": "ipython",
    "version": 3
   },
   "file_extension": ".py",
   "mimetype": "text/x-python",
   "name": "python",
   "nbconvert_exporter": "python",
   "pygments_lexer": "ipython3",
   "version": "3.6.4"
  }
 },
 "nbformat": 4,
 "nbformat_minor": 2
}
